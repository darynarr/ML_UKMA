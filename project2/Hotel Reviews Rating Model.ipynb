{
 "cells": [
  {
   "cell_type": "code",
   "execution_count": 1,
   "metadata": {},
   "outputs": [],
   "source": [
    "import numpy as np\n",
    "import pandas as pd\n",
    "import scipy as sp\n",
    "\n",
    "from tqdm import tqdm, trange\n",
    "import io\n",
    "import random\n",
    "import os\n",
    "from functools import partial\n",
    "import copy\n",
    "\n",
    "import torch\n",
    "from torch import nn\n",
    "from torch.utils.data import TensorDataset, DataLoader, RandomSampler, SequentialSampler\n",
    "import torch.nn.functional as F\n",
    "from torchnlp.encoders.text import StaticTokenizerEncoder, stack_and_pad_tensors, pad_tensor\n",
    "\n",
    "from sklearn.model_selection import train_test_split\n",
    "from sklearn.feature_extraction.text import CountVectorizer\n",
    "from sklearn.metrics import cohen_kappa_score, confusion_matrix\n",
    "\n",
    "import matplotlib.pyplot as plt\n",
    "import seaborn as sns\n",
    "\n",
    "%matplotlib inline"
   ]
  },
  {
   "cell_type": "code",
   "execution_count": 2,
   "metadata": {},
   "outputs": [],
   "source": [
    "# reproducibility\n",
    "SEED = 42\n",
    "\n",
    "random.seed(SEED)\n",
    "np.random.seed(SEED)\n",
    "torch.manual_seed(SEED)\n",
    "torch.cuda.manual_seed(SEED)\n",
    "torch.backends.cudnn.deterministic = True"
   ]
  },
  {
   "cell_type": "code",
   "execution_count": 3,
   "metadata": {},
   "outputs": [],
   "source": [
    "torch.set_default_dtype(torch.float64)\n",
    "sns.set()"
   ]
  },
  {
   "cell_type": "code",
   "execution_count": 4,
   "metadata": {},
   "outputs": [],
   "source": [
    "DEVICE = torch.device(\"cuda\")\n",
    "EPOCHS = 20\n",
    "BATCH_SIZE = 512\n",
    "LEARN_RATE = 1e-2"
   ]
  },
  {
   "cell_type": "markdown",
   "metadata": {},
   "source": [
    "# Read data"
   ]
  },
  {
   "cell_type": "code",
   "execution_count": 5,
   "metadata": {},
   "outputs": [],
   "source": [
    "INPUT_PATH = 'data/input'\n",
    "FILENAME = 'tripadvisor_hotel_reviews.csv'"
   ]
  },
  {
   "cell_type": "code",
   "execution_count": 6,
   "metadata": {},
   "outputs": [
    {
     "name": "stdout",
     "output_type": "stream",
     "text": [
      "(20491, 2)\n"
     ]
    },
    {
     "data": {
      "text/html": [
       "<div>\n",
       "<style scoped>\n",
       "    .dataframe tbody tr th:only-of-type {\n",
       "        vertical-align: middle;\n",
       "    }\n",
       "\n",
       "    .dataframe tbody tr th {\n",
       "        vertical-align: top;\n",
       "    }\n",
       "\n",
       "    .dataframe thead th {\n",
       "        text-align: right;\n",
       "    }\n",
       "</style>\n",
       "<table border=\"1\" class=\"dataframe\">\n",
       "  <thead>\n",
       "    <tr style=\"text-align: right;\">\n",
       "      <th></th>\n",
       "      <th>Review</th>\n",
       "      <th>Rating</th>\n",
       "    </tr>\n",
       "  </thead>\n",
       "  <tbody>\n",
       "    <tr>\n",
       "      <th>10726</th>\n",
       "      <td>not recommend hotel did reviewers actually sta...</td>\n",
       "      <td>1</td>\n",
       "    </tr>\n",
       "    <tr>\n",
       "      <th>14919</th>\n",
       "      <td>barcelona rocks, stayed hotel jazz girlfriend ...</td>\n",
       "      <td>4</td>\n",
       "    </tr>\n",
       "    <tr>\n",
       "      <th>19098</th>\n",
       "      <td>ok hotel good location stayed night way beijin...</td>\n",
       "      <td>3</td>\n",
       "    </tr>\n",
       "    <tr>\n",
       "      <th>2450</th>\n",
       "      <td>great service nice pool ok beach lovely ground...</td>\n",
       "      <td>4</td>\n",
       "    </tr>\n",
       "    <tr>\n",
       "      <th>960</th>\n",
       "      <td>surprising treat spent weekend july 15/16 2006...</td>\n",
       "      <td>5</td>\n",
       "    </tr>\n",
       "  </tbody>\n",
       "</table>\n",
       "</div>"
      ],
      "text/plain": [
       "                                                  Review  Rating\n",
       "10726  not recommend hotel did reviewers actually sta...       1\n",
       "14919  barcelona rocks, stayed hotel jazz girlfriend ...       4\n",
       "19098  ok hotel good location stayed night way beijin...       3\n",
       "2450   great service nice pool ok beach lovely ground...       4\n",
       "960    surprising treat spent weekend july 15/16 2006...       5"
      ]
     },
     "execution_count": 6,
     "metadata": {},
     "output_type": "execute_result"
    }
   ],
   "source": [
    "df = pd.read_csv(f'{INPUT_PATH}/{FILENAME}')\n",
    "print(df.shape)\n",
    "df.sample(5)"
   ]
  },
  {
   "cell_type": "code",
   "execution_count": 7,
   "metadata": {},
   "outputs": [
    {
     "data": {
      "text/plain": [
       "count    20491.000000\n",
       "mean       104.375824\n",
       "std        100.656586\n",
       "min          7.000000\n",
       "25%         48.000000\n",
       "50%         77.000000\n",
       "75%        124.000000\n",
       "max       1931.000000\n",
       "Name: Review, dtype: float64"
      ]
     },
     "execution_count": 7,
     "metadata": {},
     "output_type": "execute_result"
    }
   ],
   "source": [
    "df['Review'].str.split().apply(lambda x: len(x)).describe()"
   ]
  },
  {
   "cell_type": "code",
   "execution_count": 36,
   "metadata": {},
   "outputs": [
    {
     "data": {
      "image/png": "[encoded data removed]",
      "text/plain": [
       "<Figure size 432x288 with 1 Axes>"
      ]
     },
     "metadata": {},
     "output_type": "display_data"
    }
   ],
   "source": [
    "df['Review'].str.split().apply(lambda x: len(x)).hist()\n",
    "plt.xlabel('Review length')\n",
    "plt.ylabel('Count reviews')\n",
    "plt.savefig('img/words_hist.jpg', dpi = 600)"
   ]
  },
  {
   "cell_type": "code",
   "execution_count": 9,
   "metadata": {},
   "outputs": [
    {
     "data": {
      "image/png": "[encoded data removed]",
      "text/plain": [
       "<Figure size 360x360 with 1 Axes>"
      ]
     },
     "metadata": {},
     "output_type": "display_data"
    }
   ],
   "source": [
    "df['Rating'].value_counts().plot.pie(y='Rating', figsize=(5, 5), autopct='%1.0f%%')\n",
    "plt.savefig('img/pie.jpg', dpi = 600)"
   ]
  },
  {
   "cell_type": "markdown",
   "metadata": {},
   "source": [
    "# Preprocess"
   ]
  },
  {
   "cell_type": "code",
   "execution_count": 10,
   "metadata": {},
   "outputs": [],
   "source": [
    "df['Review'] = df['Review'].str.replace('[^\\w\\s]','') # remove punctuation marks\n",
    "df['Review'] =  df['Review'].str.replace('\\d+', '') # remove numbers"
   ]
  },
  {
   "cell_type": "markdown",
   "metadata": {},
   "source": [
    "# Train/validation/test split"
   ]
  },
  {
   "cell_type": "code",
   "execution_count": 11,
   "metadata": {},
   "outputs": [],
   "source": [
    "test_size = 0.1\n",
    "X, y = df['Review'], df['Rating']\n",
    "X_tr, X_test, y_tr, y_test = train_test_split(X, y, test_size = test_size, stratify = y, shuffle=True)\n",
    "X_train, X_val, y_train, y_val = train_test_split(X_tr, y_tr, test_size = test_size * (1-test_size), stratify = y_tr, shuffle=True) "
   ]
  },
  {
   "cell_type": "markdown",
   "metadata": {},
   "source": [
    "# Tokenization"
   ]
  },
  {
   "cell_type": "code",
   "execution_count": 12,
   "metadata": {},
   "outputs": [],
   "source": [
    "def tokenize(encoder, X, padding = 2000):\n",
    "    encoded_X = [encoder.encode(x) for x in X]\n",
    "    encoded_X = [pad_tensor(x, length=padding) for x in encoded_X]\n",
    "    return stack_and_pad_tensors(encoded_X).tensor\n",
    "    \n",
    "encoder = StaticTokenizerEncoder(X_train.values, tokenize=lambda s: s.split())\n",
    "X_train = tokenize(encoder, X_train.values)\n",
    "X_val = tokenize(encoder, X_val.values)\n",
    "X_test = tokenize(encoder, X_test.values)"
   ]
  },
  {
   "cell_type": "code",
   "execution_count": 13,
   "metadata": {},
   "outputs": [
    {
     "data": {
      "text/plain": [
       "67354"
      ]
     },
     "execution_count": 13,
     "metadata": {},
     "output_type": "execute_result"
    }
   ],
   "source": [
    "encoder.vocab_size"
   ]
  },
  {
   "cell_type": "code",
   "execution_count": 14,
   "metadata": {},
   "outputs": [
    {
     "data": {
      "text/plain": [
       "2000"
      ]
     },
     "execution_count": 14,
     "metadata": {},
     "output_type": "execute_result"
    }
   ],
   "source": [
    "X_train.size(1)"
   ]
  },
  {
   "cell_type": "markdown",
   "metadata": {},
   "source": [
    "# Create dataloaders for torch model"
   ]
  },
  {
   "cell_type": "code",
   "execution_count": 15,
   "metadata": {},
   "outputs": [],
   "source": [
    "train_dataset = TensorDataset(X_train, torch.tensor(y_train.values))\n",
    "train_loader = DataLoader(train_dataset,shuffle=True,batch_size=BATCH_SIZE)\n",
    "\n",
    "val_dataset = TensorDataset(X_val, torch.tensor(y_val.values))\n",
    "val_loader = DataLoader(val_dataset,shuffle=False,batch_size=BATCH_SIZE)\n",
    "\n",
    "test_dataset = TensorDataset(X_test)\n",
    "test_loader = DataLoader(test_dataset,shuffle=False,batch_size=BATCH_SIZE,)"
   ]
  },
  {
   "cell_type": "markdown",
   "metadata": {},
   "source": [
    "# Model"
   ]
  },
  {
   "cell_type": "code",
   "execution_count": 16,
   "metadata": {},
   "outputs": [],
   "source": [
    "vocab_size = encoder.vocab_size\n",
    "embedding_size = 100\n",
    "seq_len = 2000\n",
    "rnn_size = 32\n",
    "hidden_size = 16\n",
    "output_size = 1\n",
    "\n",
    "class ReviewsModel(nn.Module):\n",
    "    def __init__(self):\n",
    "        super().__init__()\n",
    "        self.emb = nn.Embedding(vocab_size, embedding_size)\n",
    "        self.rnn = nn.LSTM(embedding_size, rnn_size)\n",
    "        self.drop1 = nn.Dropout(0.5)\n",
    "        self.norm1 = nn.BatchNorm1d(seq_len*rnn_size)\n",
    "        self.fc1 = nn.Linear(seq_len*rnn_size, hidden_size)\n",
    "        self.drop2 = nn.Dropout(0.5)\n",
    "        self.norm2 = nn.BatchNorm1d(hidden_size)\n",
    "        self.fc2 = nn.Linear(hidden_size, output_size)\n",
    "        self.out = nn.ReLU()\n",
    "        \n",
    "\n",
    "    def forward(self, inputs):\n",
    "        batch_size = inputs.size(0)\n",
    "        emb = self.emb(inputs)\n",
    "        \n",
    "        self.rnn.flatten_parameters()\n",
    "        rnn, hid = self.rnn(emb)\n",
    "        rnn = self.drop1(rnn)\n",
    "        a1 = self.fc1(self.norm1(rnn.view(batch_size, -1)))\n",
    "        a1 = self.drop2(a1)\n",
    "        a2 = self.fc2(self.norm2(a1))\n",
    "        return self.out(a2).float().squeeze()"
   ]
  },
  {
   "cell_type": "markdown",
   "metadata": {},
   "source": [
    "# Train model"
   ]
  },
  {
   "cell_type": "code",
   "execution_count": 17,
   "metadata": {},
   "outputs": [],
   "source": [
    "def round_output(y, thresh = [1.5, 2.5, 3.5, 4.5], labels = [1, 2, 3, 4, 5]):\n",
    "    return pd.cut(y, bins = [-np.inf, *thresh, np.inf], labels = labels).astype(int)"
   ]
  },
  {
   "cell_type": "code",
   "execution_count": 18,
   "metadata": {},
   "outputs": [],
   "source": [
    "def fit_epoch(model, train_loader, criterion, optimizer):\n",
    "    model.train()\n",
    "    running_loss = .0\n",
    "    running_kappa = .0\n",
    "    processed_data = 0\n",
    "    \n",
    "    for inputs, labels in train_loader:\n",
    "        inputs = inputs.to(DEVICE)\n",
    "        labels = labels.to(DEVICE)\n",
    "        optimizer.zero_grad()\n",
    "        \n",
    "        outputs = model(inputs)\n",
    "        y_pred = round_output(outputs.data.cpu().numpy())\n",
    "\n",
    "        loss = criterion(outputs, labels.float())\n",
    "        kappa = cohen_kappa_score(y_pred, labels.data.cpu().numpy(), weights='quadratic')\n",
    "        \n",
    "        loss.backward()\n",
    "        optimizer.step()\n",
    "        \n",
    "        running_loss += loss.item() * inputs.size(0)\n",
    "        running_kappa += kappa * inputs.size(0)\n",
    "        processed_data += inputs.size(0)\n",
    "        \n",
    "        \n",
    "    train_loss = running_loss / processed_data\n",
    "    train_kappa = running_kappa / processed_data\n",
    "    return train_loss, train_kappa\n",
    "\n",
    "def eval_epoch(model, val_loader, criterion):\n",
    "    model.eval()\n",
    "    running_loss = .0\n",
    "    running_kappa = .0\n",
    "    processed_data = 0\n",
    "    for inputs, labels in val_loader:\n",
    "        inputs = inputs.to(DEVICE)\n",
    "        labels = labels.to(DEVICE)\n",
    "        \n",
    "        with torch.set_grad_enabled(False):\n",
    "            outputs = model(inputs)\n",
    "            y_pred = round_output(outputs.data.cpu().numpy())\n",
    "            loss = criterion(outputs, labels.float())\n",
    "            kappa = cohen_kappa_score(y_pred, labels.data.cpu().numpy(), weights='quadratic')\n",
    "\n",
    "        \n",
    "        running_loss += loss.item() * inputs.size(0)\n",
    "        running_kappa += kappa * inputs.size(0)\n",
    "        processed_data += inputs.size(0)\n",
    "        \n",
    "        \n",
    "    val_loss = running_loss / processed_data\n",
    "    val_kappa = running_kappa / processed_data\n",
    "    return val_loss, val_kappa"
   ]
  },
  {
   "cell_type": "code",
   "execution_count": 19,
   "metadata": {},
   "outputs": [
    {
     "name": "stdout",
     "output_type": "stream",
     "text": [
      "ReviewsModel(\n",
      "  (emb): Embedding(67354, 100)\n",
      "  (rnn): LSTM(100, 32)\n",
      "  (drop1): Dropout(p=0.5, inplace=False)\n",
      "  (norm1): BatchNorm1d(64000, eps=1e-05, momentum=0.1, affine=True, track_running_stats=True)\n",
      "  (fc1): Linear(in_features=64000, out_features=16, bias=True)\n",
      "  (drop2): Dropout(p=0.5, inplace=False)\n",
      "  (norm2): BatchNorm1d(16, eps=1e-05, momentum=0.1, affine=True, track_running_stats=True)\n",
      "  (fc2): Linear(in_features=16, out_features=1, bias=True)\n",
      "  (out): ReLU()\n",
      ")\n"
     ]
    }
   ],
   "source": [
    "model = ReviewsModel().to(DEVICE)\n",
    "print(model)"
   ]
  },
  {
   "cell_type": "code",
   "execution_count": 20,
   "metadata": {},
   "outputs": [],
   "source": [
    "criterion = nn.MSELoss()\n",
    "optimizer = torch.optim.Adam(model.parameters(), LEARN_RATE, weight_decay=1e-2)\n",
    "scheduler = torch.optim.lr_scheduler.ReduceLROnPlateau(optimizer, mode='max')"
   ]
  },
  {
   "cell_type": "code",
   "execution_count": 21,
   "metadata": {},
   "outputs": [
    {
     "name": "stdout",
     "output_type": "stream",
     "text": [
      "\n",
      "[001/020] train_loss: 7.9814 train_kappa: 0.0417 val_loss 5.9946 val_kappa: 0.0397\n",
      "\n",
      "[002/020] train_loss: 2.9836 train_kappa: 0.1364 val_loss 1.7213 val_kappa: 0.0777\n",
      "\n",
      "[003/020] train_loss: 1.7308 train_kappa: 0.3486 val_loss 2.4508 val_kappa: 0.1400\n",
      "\n",
      "[004/020] train_loss: 1.4813 train_kappa: 0.4186 val_loss 1.8502 val_kappa: 0.2729\n",
      "\n",
      "[005/020] train_loss: 1.3201 train_kappa: 0.4806 val_loss 2.1552 val_kappa: 0.2372\n",
      "\n",
      "[006/020] train_loss: 1.2156 train_kappa: 0.5216 val_loss 1.0507 val_kappa: 0.4879\n",
      "\n",
      "[007/020] train_loss: 1.1032 train_kappa: 0.5646 val_loss 0.9736 val_kappa: 0.5252\n",
      "\n",
      "[008/020] train_loss: 1.0221 train_kappa: 0.5982 val_loss 0.8522 val_kappa: 0.5429\n",
      "\n",
      "[009/020] train_loss: 0.9069 train_kappa: 0.6249 val_loss 0.6934 val_kappa: 0.6533\n",
      "\n",
      "[010/020] train_loss: 0.7430 train_kappa: 0.6551 val_loss 0.8209 val_kappa: 0.5757\n",
      "\n",
      "[011/020] train_loss: 0.7286 train_kappa: 0.6608 val_loss 0.6440 val_kappa: 0.6791\n",
      "\n",
      "[012/020] train_loss: 0.7218 train_kappa: 0.6674 val_loss 0.9296 val_kappa: 0.5967\n",
      "\n",
      "[013/020] train_loss: 0.7021 train_kappa: 0.6766 val_loss 0.6558 val_kappa: 0.6911\n",
      "\n",
      "[014/020] train_loss: 0.6882 train_kappa: 0.6843 val_loss 0.6921 val_kappa: 0.6714\n",
      "\n",
      "[015/020] train_loss: 0.6767 train_kappa: 0.6898 val_loss 0.7908 val_kappa: 0.6315\n",
      "\n",
      "[016/020] train_loss: 0.6605 train_kappa: 0.6974 val_loss 0.6431 val_kappa: 0.6835\n",
      "\n",
      "[017/020] train_loss: 0.6556 train_kappa: 0.7040 val_loss 0.5917 val_kappa: 0.7119\n",
      "\n",
      "[018/020] train_loss: 0.6482 train_kappa: 0.7046 val_loss 0.6070 val_kappa: 0.7060\n",
      "\n",
      "[019/020] train_loss: 0.6339 train_kappa: 0.7126 val_loss 0.5918 val_kappa: 0.7058\n",
      "\n",
      "[020/020] train_loss: 0.6465 train_kappa: 0.7091 val_loss 0.5784 val_kappa: 0.7354\n"
     ]
    }
   ],
   "source": [
    "verbose =1\n",
    "\n",
    "log_template = \"\\n[{ep:03d}/{epochs:03d}] train_loss: {t_loss:0.4f} train_kappa: {t_kappa:.4f} \\\n",
    "val_loss {v_loss:0.4f} val_kappa: {v_kappa:.4f}\"\n",
    "history = []\n",
    "\n",
    "#early stopping params\n",
    "kappa_best = -1\n",
    "stop_counter = 0\n",
    "patience = 15\n",
    "delta = 0.005\n",
    "\n",
    "for epoch in range(EPOCHS):\n",
    "    train_loss, train_kappa = fit_epoch(model, train_loader, criterion, optimizer)\n",
    "    val_loss, val_kappa = eval_epoch(model, val_loader, criterion)\n",
    "    scheduler.step(val_kappa)\n",
    "    \n",
    "    history.append([train_loss, train_kappa, val_loss, val_kappa])\n",
    "\n",
    "    log = log_template.format(ep=epoch+1,epochs =EPOCHS, t_loss=train_loss, t_kappa=train_kappa,\\\n",
    "                                   v_loss=val_loss, v_kappa= val_kappa)\n",
    "    \n",
    "    # early stopping\n",
    "    if val_kappa > kappa_best * (1+delta):\n",
    "        kappa_best = val_kappa\n",
    "        stop_counter = 0\n",
    "        # best model\n",
    "        best_model = copy.deepcopy(model)\n",
    "    else:\n",
    "        stop_counter += 1\n",
    "        if stop_counter >= patience:\n",
    "            print('EARLY STOP.')\n",
    "            print(log)\n",
    "            break\n",
    "    \n",
    "    # verbose\n",
    "    if epoch == 0 or (epoch+1)% verbose == 0 or epoch==EPOCHS-1:\n",
    "        print(log)"
   ]
  },
  {
   "cell_type": "code",
   "execution_count": 41,
   "metadata": {},
   "outputs": [],
   "source": [
    "history = list(zip(*history))"
   ]
  },
  {
   "cell_type": "code",
   "execution_count": 62,
   "metadata": {},
   "outputs": [],
   "source": [
    "def plot_metric(train, val, metric_name, save=True):\n",
    "    plt.plot(train, label = f'train {metric_name}')\n",
    "    plt.plot(val, label = f'val {metric_name}')\n",
    "    plt.xticks(range(len(history[0])))\n",
    "    plt.ylim(bottom=0)\n",
    "    plt.legend()\n",
    "    if save:\n",
    "        plt.savefig(f'img/{metric_name}.jpg', dpi=600)\n",
    "    plt.show()\n",
    "    plt.close()"
   ]
  },
  {
   "cell_type": "code",
   "execution_count": 63,
   "metadata": {},
   "outputs": [
    {
     "data": {
      "image/png": "[encoded data removed]",
      "text/plain": [
       "<Figure size 432x288 with 1 Axes>"
      ]
     },
     "metadata": {},
     "output_type": "display_data"
    }
   ],
   "source": [
    "plot_metric(history[0], history[2], 'loss')"
   ]
  },
  {
   "cell_type": "code",
   "execution_count": 64,
   "metadata": {},
   "outputs": [
    {
     "data": {
      "image/png": "[encoded data removed]",
      "text/plain": [
       "<Figure size 432x288 with 1 Axes>"
      ]
     },
     "metadata": {},
     "output_type": "display_data"
    }
   ],
   "source": [
    "plot_metric(history[1], history[3], 'kappa')"
   ]
  },
  {
   "cell_type": "code",
   "execution_count": 25,
   "metadata": {},
   "outputs": [],
   "source": [
    "model = copy.deepcopy(best_model)\n",
    "del best_model"
   ]
  },
  {
   "cell_type": "markdown",
   "metadata": {},
   "source": [
    "# Evalute model"
   ]
  },
  {
   "cell_type": "code",
   "execution_count": 26,
   "metadata": {},
   "outputs": [],
   "source": [
    "def predict(model, test_loader):\n",
    "    model.eval()\n",
    "    logits = []\n",
    "    with torch.no_grad():\n",
    "        for data in test_loader:\n",
    "            inputs = data[0]\n",
    "            inputs = inputs.to(DEVICE)\n",
    "            outputs = model(inputs).cpu()\n",
    "            logits.append(outputs)\n",
    "    return torch.cat(logits, 0).numpy()"
   ]
  },
  {
   "cell_type": "code",
   "execution_count": 27,
   "metadata": {},
   "outputs": [],
   "source": [
    "train_dataset = TensorDataset(X_train, torch.tensor(y_train.values))\n",
    "train_loader = DataLoader(train_dataset,shuffle=False,batch_size=BATCH_SIZE)"
   ]
  },
  {
   "cell_type": "markdown",
   "metadata": {},
   "source": [
    "## Scores without optimized thresholds"
   ]
  },
  {
   "cell_type": "code",
   "execution_count": 28,
   "metadata": {},
   "outputs": [],
   "source": [
    "y_train_hat = predict(model, train_loader)\n",
    "\n",
    "y_val_hat = predict(model, val_loader)\n",
    "\n",
    "y_test_hat = predict(model, test_loader)"
   ]
  },
  {
   "cell_type": "code",
   "execution_count": 29,
   "metadata": {},
   "outputs": [
    {
     "name": "stdout",
     "output_type": "stream",
     "text": [
      "Quadratic Weighted Kappa\n",
      "Train:  0.7935055220295901\n",
      "Validation:  0.7363655418887651\n",
      "Test:  0.7475972431781999\n"
     ]
    }
   ],
   "source": [
    "print('Quadratic Weighted Kappa')\n",
    "print('Train: ', cohen_kappa_score(\n",
    "    round_output(y_train_hat), y_train, weights = 'quadratic'))\n",
    "\n",
    "print('Validation: ', cohen_kappa_score(\n",
    "    round_output(y_val_hat), y_val, weights = 'quadratic'))\n",
    "\n",
    "print('Test: ', cohen_kappa_score(\n",
    "    round_output(y_test_hat), y_test, weights = 'quadratic'))"
   ]
  },
  {
   "cell_type": "markdown",
   "metadata": {},
   "source": [
    "## Scores with optimized thresholds"
   ]
  },
  {
   "cell_type": "code",
   "execution_count": 30,
   "metadata": {},
   "outputs": [],
   "source": [
    "class OptimizedRounder(object):\n",
    "    def __init__(self):\n",
    "        self.coef_ = 0\n",
    "    \n",
    "    def _kappa_loss(self, coef, y_hat, y):\n",
    "        preds = pd.cut(y_hat, [-np.inf] + list(np.sort(coef)) + [np.inf], labels = [1, 2, 3, 4, 5]).astype(int)\n",
    "        return -cohen_kappa_score(y, preds, weights = 'quadratic')\n",
    "    \n",
    "    def fit(self, y_hat, y, initial_coef = [1.5, 2.5, 3.5, 4.5]):\n",
    "        loss_partial = partial(self._kappa_loss, y_hat = y_hat, y = y)\n",
    "        self.coef_ = sp.optimize.minimize(loss_partial, initial_coef, method = 'nelder-mead')['x']\n",
    "    \n",
    "    def predict(self, y_hat, coef):\n",
    "        preds = pd.cut(y_hat, [-np.inf] + list(np.sort(coef)) + [np.inf], labels = [1, 2, 3, 4, 5]).astype(int)\n",
    "        return preds"
   ]
  },
  {
   "cell_type": "code",
   "execution_count": 31,
   "metadata": {},
   "outputs": [],
   "source": [
    "rounder = OptimizedRounder()\n",
    "rounder.fit(y_train_hat, y_train)"
   ]
  },
  {
   "cell_type": "code",
   "execution_count": 32,
   "metadata": {},
   "outputs": [
    {
     "data": {
      "text/plain": [
       "array([1.61543239, 2.84956807, 3.41715743, 4.17203765])"
      ]
     },
     "execution_count": 32,
     "metadata": {},
     "output_type": "execute_result"
    }
   ],
   "source": [
    "coefs = rounder.coef_\n",
    "coefs"
   ]
  },
  {
   "cell_type": "code",
   "execution_count": 33,
   "metadata": {},
   "outputs": [
    {
     "name": "stdout",
     "output_type": "stream",
     "text": [
      "Quadratic Weighted Kappa\n",
      "Train:  0.8337437228496121\n",
      "Validation:  0.7847195435016826\n",
      "Test:  0.7858499948856452\n"
     ]
    }
   ],
   "source": [
    "print('Quadratic Weighted Kappa')\n",
    "print('Train: ', cohen_kappa_score(\n",
    "    rounder.predict(y_train_hat, coefs), y_train, weights = 'quadratic'))\n",
    "\n",
    "print('Validation: ', cohen_kappa_score(\n",
    "    rounder.predict(y_val_hat, coefs), y_val, weights = 'quadratic'))\n",
    "\n",
    "print('Test: ', cohen_kappa_score(\n",
    "    rounder.predict(y_test_hat, coefs), y_test, weights = 'quadratic'))"
   ]
  },
  {
   "cell_type": "code",
   "execution_count": 66,
   "metadata": {},
   "outputs": [
    {
     "data": {
      "image/png": "[encoded data removed]",
      "text/plain": [
       "<Figure size 432x288 with 2 Axes>"
      ]
     },
     "metadata": {},
     "output_type": "display_data"
    }
   ],
   "source": [
    "labels=[1,2,3,4,5]\n",
    "sns.heatmap(confusion_matrix(rounder.predict(y_test_hat, coefs), y_test, normalize='true'), xticklabels=labels, yticklabels = labels, annot=True, cmap = 'YlGn')\n",
    "plt.ylabel('True')\n",
    "plt.xlabel('Predicted')\n",
    "plt.title('Confusion matrix (normalized by \"True\")', fontsize=18)\n",
    "plt.tight_layout()\n",
    "plt.savefig('img/conf_matrix.jpg', dpi = 600)"
   ]
  },
  {
   "cell_type": "code",
   "execution_count": null,
   "metadata": {},
   "outputs": [],
   "source": []
  },
  {
   "cell_type": "code",
   "execution_count": null,
   "metadata": {},
   "outputs": [],
   "source": []
  }
 ],
 "metadata": {
  "kernelspec": {
   "display_name": "Python [conda env:ml_ukma]",
   "language": "python",
   "name": "conda-env-ml_ukma-py"
  },
  "language_info": {
   "codemirror_mode": {
    "name": "ipython",
    "version": 3
   },
   "file_extension": ".py",
   "mimetype": "text/x-python",
   "name": "python",
   "nbconvert_exporter": "python",
   "pygments_lexer": "ipython3",
   "version": "3.7.4"
  }
 },
 "nbformat": 4,
 "nbformat_minor": 4
}
