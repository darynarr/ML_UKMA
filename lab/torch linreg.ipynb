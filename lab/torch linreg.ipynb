{
 "cells": [
  {
   "cell_type": "code",
   "execution_count": 1,
   "metadata": {},
   "outputs": [],
   "source": [
    "import numpy as np\n",
    "import matplotlib.pyplot as plt\n",
    "from sklearn.datasets import make_regression\n",
    "import torch"
   ]
  },
  {
   "cell_type": "code",
   "execution_count": 2,
   "metadata": {},
   "outputs": [
    {
     "data": {
      "text/plain": [
       "True"
      ]
     },
     "execution_count": 2,
     "metadata": {},
     "output_type": "execute_result"
    }
   ],
   "source": [
    "torch.cuda.is_available()"
   ]
  },
  {
   "cell_type": "code",
   "execution_count": 3,
   "metadata": {},
   "outputs": [
    {
     "name": "stdout",
     "output_type": "stream",
     "text": [
      "cuda\n"
     ]
    }
   ],
   "source": [
    "DEVICE = torch.device(\"cuda\" if torch.cuda.is_available() else \"cpu\")\n",
    "if DEVICE.type == 'cuda':\n",
    "    torch.set_default_tensor_type('torch.cuda.FloatTensor')\n",
    "print(DEVICE.type)"
   ]
  },
  {
   "cell_type": "code",
   "execution_count": 4,
   "metadata": {},
   "outputs": [],
   "source": [
    "X, y = make_regression(n_samples=100, n_features=100, noise=0.1)"
   ]
  },
  {
   "cell_type": "code",
   "execution_count": 5,
   "metadata": {},
   "outputs": [
    {
     "data": {
      "text/plain": [
       "<matplotlib.collections.PathCollection at 0x7f56845ab650>"
      ]
     },
     "execution_count": 5,
     "metadata": {},
     "output_type": "execute_result"
    },
    {
     "data": {
      "image/png": "[encoded data removed]",
      "text/plain": [
       "<Figure size 432x288 with 1 Axes>"
      ]
     },
     "metadata": {
      "needs_background": "light"
     },
     "output_type": "display_data"
    }
   ],
   "source": [
    "plt.scatter(X[:, 0], X[:, 1])"
   ]
  },
  {
   "cell_type": "code",
   "execution_count": 6,
   "metadata": {},
   "outputs": [],
   "source": [
    "class LinearRegression():\n",
    "    def __init__(self, lr, epochs, verbose):\n",
    "        self.lr = lr\n",
    "        self.epochs = epochs\n",
    "        self.verbose = verbose\n",
    "        return\n",
    "    \n",
    "    def __model(self):\n",
    "        return self.X @ self.W.t() + self.b\n",
    "    \n",
    "    def mse(self, y, y_pred):\n",
    "        diff = y - y_pred\n",
    "        return torch.sum(diff * diff) / y.numel()\n",
    "        \n",
    "    def fit(self, X, y):\n",
    "        self.X = torch.from_numpy(X).to(DEVICE)\n",
    "        self.y = torch.from_numpy(y).to(DEVICE)\n",
    "        self.W = torch.randn(X.shape[1], dtype=torch.double, requires_grad=True).to(DEVICE)\n",
    "        self.b = torch.randn(1, dtype=torch.double, requires_grad=True).to(DEVICE)\n",
    "        self.losses = []\n",
    "        \n",
    "        for epoch in range(self.epochs):\n",
    "            preds = self.__model()\n",
    "            loss = self.mse(self.y, preds)\n",
    "            self.losses.append(loss.item())\n",
    "            loss.backward()\n",
    "            \n",
    "            with torch.no_grad():\n",
    "                self.W-=(self.W.grad*self.lr)\n",
    "                self.b-=(self.b.grad*self.lr)\n",
    "                self.W.grad.zero_()\n",
    "                self.b.grad.zero_()\n",
    "            if (epoch==0) or (epoch%self.verbose==0) or (epoch==self.epochs-1):\n",
    "                print(f'Epoch: {epoch}. MSE - {loss.item():.2f}')\n",
    "    \n",
    "    def predict(self, X):\n",
    "        return X @ self.W.t() + self.b"
   ]
  },
  {
   "cell_type": "code",
   "execution_count": 17,
   "metadata": {},
   "outputs": [
    {
     "name": "stdout",
     "output_type": "stream",
     "text": [
      "Epoch: 0. MSE - 41158.13\n",
      "Epoch: 500. MSE - 2658.47\n",
      "Epoch: 1000. MSE - 851.63\n",
      "Epoch: 1500. MSE - 445.13\n",
      "Epoch: 2000. MSE - 282.49\n",
      "Epoch: 2500. MSE - 201.90\n",
      "Epoch: 3000. MSE - 156.26\n",
      "Epoch: 3500. MSE - 127.50\n",
      "Epoch: 4000. MSE - 107.72\n",
      "Epoch: 4500. MSE - 93.19\n",
      "Epoch: 5000. MSE - 81.96\n",
      "Epoch: 5500. MSE - 72.97\n",
      "Epoch: 6000. MSE - 65.60\n",
      "Epoch: 6500. MSE - 59.45\n",
      "Epoch: 7000. MSE - 54.23\n",
      "Epoch: 7500. MSE - 49.78\n",
      "Epoch: 8000. MSE - 45.94\n",
      "Epoch: 8500. MSE - 42.60\n",
      "Epoch: 9000. MSE - 39.69\n",
      "Epoch: 9500. MSE - 37.14\n",
      "Epoch: 9999. MSE - 34.89\n"
     ]
    }
   ],
   "source": [
    "linreg = LinearRegression(lr=1e-3, epochs = 10000, verbose=500)\n",
    "linreg.fit(X, y)"
   ]
  },
  {
   "cell_type": "code",
   "execution_count": 18,
   "metadata": {},
   "outputs": [
    {
     "data": {
      "text/plain": [
       "[<matplotlib.lines.Line2D at 0x7f568283a910>]"
      ]
     },
     "execution_count": 18,
     "metadata": {},
     "output_type": "execute_result"
    },
    {
     "data": {
      "image/png": "[encoded data removed]",
      "text/plain": [
       "<Figure size 432x288 with 1 Axes>"
      ]
     },
     "metadata": {
      "needs_background": "light"
     },
     "output_type": "display_data"
    }
   ],
   "source": [
    "plt.plot(linreg.losses)"
   ]
  },
  {
   "cell_type": "code",
   "execution_count": null,
   "metadata": {},
   "outputs": [],
   "source": []
  }
 ],
 "metadata": {
  "kernelspec": {
   "display_name": "Python [conda env:ml_ukma]",
   "language": "python",
   "name": "conda-env-ml_ukma-py"
  },
  "language_info": {
   "codemirror_mode": {
    "name": "ipython",
    "version": 3
   },
   "file_extension": ".py",
   "mimetype": "text/x-python",
   "name": "python",
   "nbconvert_exporter": "python",
   "pygments_lexer": "ipython3",
   "version": "3.7.4"
  }
 },
 "nbformat": 4,
 "nbformat_minor": 4
}
