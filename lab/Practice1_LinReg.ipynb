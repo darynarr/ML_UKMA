{
 "cells": [
  {
   "cell_type": "markdown",
   "metadata": {},
   "source": [
    "## Practice 1: Linear Regression <br>\n",
    "<br>\n",
    "<br>"
   ]
  },
  {
   "cell_type": "markdown",
   "metadata": {},
   "source": [
    "1. Read data, analyze it, split it into train and test set using scikit-learn train_test_split. Read about why we do this.\n",
    "[why split the data](https://machinelearningmastery.com/train-test-split-for-evaluating-machine-learning-algorithms/) <br>\n",
    "2. Implement your own linear regression. (numpy or torch)<br>\n",
    "3. Try calculating it using <b>Normal equation</b> VS <b>Gradient descent</b>. Try implementing it using only the formulas. Which one is faster? In which situation is gradient descent faster than normal equation?<br>\n",
    "4. Compare performance to scikit-learn LinearRegression. <br>\n",
    "5. Try adding in L1 or L2 regularization. Try different regularization weights. Does it help? Read about regularization and why we do it. [regularization](https://towardsdatascience.com/regularization-in-machine-learning-76441ddcf99a) <br>\n",
    "6. Try scaling your data using scikit learn StandardScaler or other techniques [data scaling](https://machinelearningmastery.com/how-to-improve-neural-network-stability-and-modeling-performance-with-data-scaling/)\n",
    "\n",
    "Might find useful [hands on ML](https://www.oreilly.com/library/view/hands-on-machine-learning/9781492032632/)"
   ]
  },
  {
   "cell_type": "code",
   "execution_count": 1,
   "metadata": {},
   "outputs": [],
   "source": [
    "import pandas as pd\n",
    "import numpy as np\n",
    "import torch\n",
    "\n",
    "from sklearn import datasets\n",
    "from sklearn.model_selection import train_test_split\n",
    "from sklearn.metrics import mean_squared_error\n",
    "from sklearn.linear_model import LinearRegression\n",
    "from sklearn.preprocessing import StandardScaler\n",
    "\n",
    "import matplotlib.pyplot as plt\n",
    "import seaborn as sns"
   ]
  },
  {
   "cell_type": "code",
   "execution_count": 2,
   "metadata": {},
   "outputs": [],
   "source": [
    "np.random.seed(42)\n",
    "torch.manual_seed(42)\n",
    "sns.set(palette = 'Set2', style='whitegrid')"
   ]
  },
  {
   "cell_type": "code",
   "execution_count": 3,
   "metadata": {},
   "outputs": [
    {
     "data": {
      "text/plain": [
       "device(type='cuda')"
      ]
     },
     "execution_count": 3,
     "metadata": {},
     "output_type": "execute_result"
    }
   ],
   "source": [
    "DEVICE=torch.device('cuda' if torch.cuda.is_available() else 'cpu')\n",
    "DEVICE"
   ]
  },
  {
   "cell_type": "markdown",
   "metadata": {},
   "source": [
    "#### Housing dataset\n",
    "[dataset description](https://www.cs.toronto.edu/~delve/data/boston/bostonDetail.html)"
   ]
  },
  {
   "cell_type": "code",
   "execution_count": 4,
   "metadata": {},
   "outputs": [],
   "source": [
    "data = datasets.load_boston()"
   ]
  },
  {
   "cell_type": "code",
   "execution_count": 5,
   "metadata": {},
   "outputs": [
    {
     "name": "stdout",
     "output_type": "stream",
     "text": [
      "Feature list: ['CRIM' 'ZN' 'INDUS' 'CHAS' 'NOX' 'RM' 'AGE' 'DIS' 'RAD' 'TAX' 'PTRATIO'\n",
      " 'B' 'LSTAT']\n",
      ".. _boston_dataset:\n",
      "\n",
      "Boston house prices dataset\n",
      "---------------------------\n",
      "\n",
      "**Data Set Characteristics:**  \n",
      "\n",
      "    :Number of Instances: 506 \n",
      "\n",
      "    :Number of Attributes: 13 numeric/categorical predictive. Median Value (attribute 14) is usually the target.\n",
      "\n",
      "    :Attribute Information (in order):\n",
      "        - CRIM     per capita crime rate by town\n",
      "        - ZN       proportion of residential land zoned for lots over 25,000 sq.ft.\n",
      "        - INDUS    proportion of non-retail business acres per town\n",
      "        - CHAS     Charles River dummy variable (= 1 if tract bounds river; 0 otherwise)\n",
      "        - NOX      nitric oxides concentration (parts per 10 million)\n",
      "        - RM       average number of rooms per dwelling\n",
      "        - AGE      proportion of owner-occupied units built prior to 1940\n",
      "        - DIS      weighted distances to five Boston employment centres\n",
      "        - RAD      index of accessibility to radial highways\n",
      "        - TAX      full-value property-tax rate per $10,000\n",
      "        - PTRATIO  pupil-teacher ratio by town\n",
      "        - B        1000(Bk - 0.63)^2 where Bk is the proportion of blacks by town\n",
      "        - LSTAT    % lower status of the population\n",
      "        - MEDV     Median value of owner-occupied homes in $1000's\n",
      "\n",
      "    :Missing Attribute Values: None\n",
      "\n",
      "    :Creator: Harrison, D. and Rubinfeld, D.L.\n",
      "\n",
      "This is a copy of UCI ML housing dataset.\n",
      "https://archive.ics.uci.edu/ml/machine-learning-databases/housing/\n",
      "\n",
      "\n",
      "This dataset was taken from the StatLib library which is maintained at Carnegie Mellon University.\n",
      "\n",
      "The Boston house-price data of Harrison, D. and Rubinfeld, D.L. 'Hedonic\n",
      "prices and the demand for clean air', J. Environ. Economics & Management,\n",
      "vol.5, 81-102, 1978.   Used in Belsley, Kuh & Welsch, 'Regression diagnostics\n",
      "...', Wiley, 1980.   N.B. Various transformations are used in the table on\n",
      "pages 244-261 of the latter.\n",
      "\n",
      "The Boston house-price data has been used in many machine learning papers that address regression\n",
      "problems.   \n",
      "     \n",
      ".. topic:: References\n",
      "\n",
      "   - Belsley, Kuh & Welsch, 'Regression diagnostics: Identifying Influential Data and Sources of Collinearity', Wiley, 1980. 244-261.\n",
      "   - Quinlan,R. (1993). Combining Instance-Based and Model-Based Learning. In Proceedings on the Tenth International Conference of Machine Learning, 236-243, University of Massachusetts, Amherst. Morgan Kaufmann.\n",
      "\n"
     ]
    }
   ],
   "source": [
    "X = data['data']\n",
    "y = data['target']\n",
    "print(f\"Feature list: {data['feature_names']}\")\n",
    "print(data['DESCR'])"
   ]
  },
  {
   "cell_type": "code",
   "execution_count": 6,
   "metadata": {},
   "outputs": [],
   "source": [
    "X_train, X_test, y_train, y_test = train_test_split(X, y, test_size= 0.2)"
   ]
  },
  {
   "cell_type": "markdown",
   "metadata": {},
   "source": [
    "## scikit-learn"
   ]
  },
  {
   "cell_type": "code",
   "execution_count": 7,
   "metadata": {},
   "outputs": [
    {
     "name": "stdout",
     "output_type": "stream",
     "text": [
      "train loss: 21.641412753226312\n",
      "test loss: 24.291119474973456\n",
      "CPU times: user 15 ms, sys: 0 ns, total: 15 ms\n",
      "Wall time: 3.66 ms\n"
     ]
    }
   ],
   "source": [
    "%%time \n",
    "model = LinearRegression()\n",
    "model.fit(X_train, y_train)\n",
    "\n",
    "y_train_pred = model.predict(X_train)\n",
    "y_test_pred = model.predict(X_test)\n",
    "\n",
    "print(f'train loss: {mean_squared_error(y_train, y_train_pred)}')\n",
    "print(f'test loss: {mean_squared_error(y_test, y_test_pred)}')"
   ]
  },
  {
   "cell_type": "code",
   "execution_count": 8,
   "metadata": {},
   "outputs": [
    {
     "data": {
      "text/plain": [
       "<BarContainer object of 14 artists>"
      ]
     },
     "execution_count": 8,
     "metadata": {},
     "output_type": "execute_result"
    },
    {
     "data": {
      "image/png": "[encoded data removed]",
      "text/plain": [
       "<Figure size 432x288 with 1 Axes>"
      ]
     },
     "metadata": {},
     "output_type": "display_data"
    }
   ],
   "source": [
    "W = np.concatenate([[model.intercept_], model.coef_])\n",
    "\n",
    "plt.bar([f'w{i}' for i in range(len(W))], W)"
   ]
  },
  {
   "cell_type": "markdown",
   "metadata": {},
   "source": [
    "# Implementation"
   ]
  },
  {
   "cell_type": "code",
   "execution_count": 9,
   "metadata": {},
   "outputs": [],
   "source": [
    "class MyLinearRegression:\n",
    "    def __init__(\n",
    "        self, method='equation', learning_rate=1e-6, lambda_l1=0, lambda_l2=0,\n",
    "        max_iter = 200, verbose = 20\n",
    "    ):\n",
    "        self.mode = method\n",
    "        self.lr = learning_rate\n",
    "        self.lambda_l1, self.lambda_l2 = lambda_l1, lambda_l2\n",
    "        self.max_iter = max_iter\n",
    "        self.verbose = verbose\n",
    "        \n",
    "        valid_modes = ['equation', 'gradient']\n",
    "        if self.mode not in valid_modes:\n",
    "            print(f'wrong method: {self.mode}')\n",
    "            raise NameError\n",
    "        \n",
    "    def calculate_loss(self, y, h):\n",
    "        # calculate loss without regularization\n",
    "        error = y-h\n",
    "        J = torch.sum(error*error) / self.m #mse\n",
    "        \n",
    "        # calculate loss for l1 and l2 regularization\n",
    "        J_l1 = self.lambda_l1 * torch.abs(self.theta).sum()\n",
    "        J_l2 = 0.5 * self.lambda_l2 * (self.theta ** 2).sum()\n",
    "        J += J_l1 + J_l2\n",
    "        return J.item()\n",
    "    \n",
    "    def calculate_grad(self, X, y, h): \n",
    "        # calculate gradient without regularization\n",
    "        error = y - h\n",
    "        grad = -(2./ self.m) * torch.mm(X.t(), error)\n",
    "        \n",
    "        # calculate gradiet for l1 and l2 regularization\n",
    "        grad_l1 = self.lambda_l1 * torch.sign(self.theta)\n",
    "        grad_l2 = self.lambda_l2 * self.theta\n",
    "        grad += grad_l1 + grad_l2\n",
    "        return grad\n",
    "    \n",
    "\n",
    "    def fit(self, X_train, y_train):\n",
    "        X = X_train\n",
    "        y = y_train\n",
    "        \n",
    "        ones = torch.ones(X.size(0), 1).to(DEVICE) \n",
    "        X = torch.cat((ones, X), 1) # add constant to X\n",
    "        y = y.view(-1, 1) # size[m] -> [m,1]\n",
    "        \n",
    "        self.m, self.n = X.size()\n",
    "        \n",
    "        if self.mode == 'gradient':\n",
    "            # initial random weights\n",
    "            self.theta=torch.randn((self.n,1)).to(DEVICE) # weights\n",
    "            \n",
    "            #initial predictions\n",
    "            h = torch.mm(X , self.theta).to(DEVICE)\n",
    "\n",
    "            for i in range(self.max_iter):\n",
    "                # calculate loss\n",
    "                J = self.calculate_loss(y,h)\n",
    "                \n",
    "                # gradiant descent\n",
    "                grad = self.calculate_grad(X,y,h)\n",
    "                self.theta -= self.lr * grad\n",
    "                \n",
    "                # predict with updated weights\n",
    "                h = torch.mm(X , self.theta)\n",
    "                \n",
    "                if i==0 or (i+1)%self.verbose==0 or i==self.max_iter-1:\n",
    "                    print(f'[{i+1:07d}/{self.max_iter:07d}] loss {J:.3f}')\n",
    "                \n",
    "        elif self.mode == 'equation':\n",
    "            # Ridge\n",
    "            I = torch.eye(self.n).to(DEVICE)\n",
    "            \n",
    "            # theta = ((X.T @ X) + alpha * I)^(-1) @ X.T @ y\n",
    "            self.theta = torch.mm(torch.mm(\n",
    "                torch.inverse(torch.mm(X.t(), X) + self.lambda_l2 * I),\n",
    "                X.t()), y)\n",
    "    \n",
    "    def predict(self, X_test):\n",
    "        X = X_test\n",
    "        ones = torch.ones(X.size(0), 1).to(DEVICE)\n",
    "        X = torch.cat((ones, X), 1)\n",
    "        return torch.mm(X, self.theta).view(-1).cpu().data.numpy()"
   ]
  },
  {
   "cell_type": "code",
   "execution_count": 10,
   "metadata": {},
   "outputs": [],
   "source": [
    "X_train = torch.from_numpy(X_train).float().to(DEVICE)\n",
    "X_test = torch.from_numpy(X_test).float().to(DEVICE)\n",
    "y_train = torch.from_numpy(y_train).float().to(DEVICE)\n",
    "y_test = torch.from_numpy(y_test).float().to(DEVICE)"
   ]
  },
  {
   "cell_type": "code",
   "execution_count": 11,
   "metadata": {},
   "outputs": [],
   "source": [
    "def fit_eval_model(params, X_train, X_test, y_train, y_test, loss = mean_squared_error):\n",
    "    \n",
    "    model = MyLinearRegression(**params)\n",
    "    model.fit(X_train, y_train)\n",
    "    \n",
    "    y_train_pred = model.predict(X_train)\n",
    "    y_test_pred = model.predict(X_test)\n",
    "\n",
    "    print(f'train loss: {loss(y_train.cpu().data.numpy(), y_train_pred)}')\n",
    "    print(f'test loss: {loss(y_test.cpu().data.numpy(), y_test_pred)}')\n",
    "    \n",
    "    W = model.theta.view(-1).cpu().data.numpy()\n",
    "    plt.bar([f'w{i}' for i in range(len(W))], W)\n",
    "    plt.show()\n",
    "    plt.close()\n",
    "    \n",
    "    return model"
   ]
  },
  {
   "cell_type": "markdown",
   "metadata": {},
   "source": [
    "## Normal equation"
   ]
  },
  {
   "cell_type": "code",
   "execution_count": 12,
   "metadata": {},
   "outputs": [
    {
     "name": "stdout",
     "output_type": "stream",
     "text": [
      "train loss: 21.64141273498535\n",
      "test loss: 24.2912540435791\n"
     ]
    },
    {
     "data": {
      "image/png": "[encoded data removed]",
      "text/plain": [
       "<Figure size 432x288 with 1 Axes>"
      ]
     },
     "metadata": {},
     "output_type": "display_data"
    },
    {
     "name": "stdout",
     "output_type": "stream",
     "text": [
      "CPU times: user 306 ms, sys: 48.9 ms, total: 355 ms\n",
      "Wall time: 354 ms\n"
     ]
    }
   ],
   "source": [
    "%%time \n",
    "params = dict(method = 'equation')\n",
    "model_normal = fit_eval_model(params, X_train, X_test, y_train, y_test)"
   ]
  },
  {
   "cell_type": "markdown",
   "metadata": {},
   "source": [
    "## Normal equation with l2 regularization"
   ]
  },
  {
   "cell_type": "code",
   "execution_count": 13,
   "metadata": {},
   "outputs": [
    {
     "name": "stdout",
     "output_type": "stream",
     "text": [
      "train loss: 22.32554817199707\n",
      "test loss: 26.606237411499023\n"
     ]
    },
    {
     "data": {
      "image/png": "[encoded data removed]",
      "text/plain": [
       "<Figure size 432x288 with 1 Axes>"
      ]
     },
     "metadata": {},
     "output_type": "display_data"
    },
    {
     "name": "stdout",
     "output_type": "stream",
     "text": [
      "CPU times: user 129 ms, sys: 4.88 ms, total: 134 ms\n",
      "Wall time: 132 ms\n"
     ]
    }
   ],
   "source": [
    "%%time \n",
    "\n",
    "params = dict(method = 'equation', lambda_l2 = 1)\n",
    "model_normal = fit_eval_model(params, X_train, X_test, y_train, y_test)"
   ]
  },
  {
   "cell_type": "markdown",
   "metadata": {},
   "source": [
    "## Gradient without regularization"
   ]
  },
  {
   "cell_type": "code",
   "execution_count": 14,
   "metadata": {},
   "outputs": [
    {
     "name": "stdout",
     "output_type": "stream",
     "text": [
      "[0000001/0100000] loss 327278.938\n",
      "[0010000/0100000] loss 46.022\n",
      "[0020000/0100000] loss 41.040\n",
      "[0030000/0100000] loss 38.658\n",
      "[0040000/0100000] loss 37.277\n",
      "[0050000/0100000] loss 36.351\n",
      "[0060000/0100000] loss 35.666\n",
      "[0070000/0100000] loss 35.124\n",
      "[0080000/0100000] loss 34.673\n",
      "[0090000/0100000] loss 34.285\n",
      "[0100000/0100000] loss 33.943\n",
      "train loss: 33.94306182861328\n",
      "test loss: 34.49124526977539\n"
     ]
    },
    {
     "data": {
      "image/png": "[encoded data removed]",
      "text/plain": [
       "<Figure size 432x288 with 1 Axes>"
      ]
     },
     "metadata": {},
     "output_type": "display_data"
    },
    {
     "name": "stdout",
     "output_type": "stream",
     "text": [
      "CPU times: user 22.2 s, sys: 75.6 ms, total: 22.3 s\n",
      "Wall time: 22.9 s\n"
     ]
    }
   ],
   "source": [
    "%%time \n",
    "params = dict(method = 'gradient', learning_rate=1e-6, verbose=10000, max_iter = 100000)\n",
    "model_grad = fit_eval_model(params, X_train, X_test, y_train, y_test)"
   ]
  },
  {
   "cell_type": "markdown",
   "metadata": {},
   "source": [
    "## Gradient with l2 regularization"
   ]
  },
  {
   "cell_type": "code",
   "execution_count": 15,
   "metadata": {},
   "outputs": [
    {
     "name": "stdout",
     "output_type": "stream",
     "text": [
      "[0000001/0100000] loss 136275.297\n",
      "[0010000/0100000] loss 82.501\n",
      "[0020000/0100000] loss 66.725\n",
      "[0030000/0100000] loss 61.361\n",
      "[0040000/0100000] loss 58.449\n",
      "[0050000/0100000] loss 56.564\n",
      "[0060000/0100000] loss 55.247\n",
      "[0070000/0100000] loss 54.279\n",
      "[0080000/0100000] loss 53.544\n",
      "[0090000/0100000] loss 52.973\n",
      "[0100000/0100000] loss 52.522\n",
      "train loss: 42.86871337890625\n",
      "test loss: 41.24161148071289\n"
     ]
    },
    {
     "data": {
      "image/png": "[encoded data removed]",
      "text/plain": [
       "<Figure size 432x288 with 1 Axes>"
      ]
     },
     "metadata": {},
     "output_type": "display_data"
    },
    {
     "name": "stdout",
     "output_type": "stream",
     "text": [
      "CPU times: user 22.2 s, sys: 121 ms, total: 22.3 s\n",
      "Wall time: 22.3 s\n"
     ]
    }
   ],
   "source": [
    "%%time \n",
    "\n",
    "params = dict(method = 'gradient', learning_rate=1e-6, verbose=10000, max_iter = 100000, lambda_l2=10)\n",
    "model_gradl2 = fit_eval_model(params, X_train, X_test, y_train, y_test)"
   ]
  },
  {
   "cell_type": "markdown",
   "metadata": {},
   "source": [
    "## Gradient with l1 regularization"
   ]
  },
  {
   "cell_type": "code",
   "execution_count": 16,
   "metadata": {},
   "outputs": [
    {
     "name": "stdout",
     "output_type": "stream",
     "text": [
      "[0000001/0100000] loss 12387.679\n",
      "[0010000/0100000] loss 109.096\n",
      "[0020000/0100000] loss 90.236\n",
      "[0030000/0100000] loss 80.723\n",
      "[0040000/0100000] loss 74.579\n",
      "[0050000/0100000] loss 70.393\n",
      "[0060000/0100000] loss 69.075\n",
      "[0070000/0100000] loss 67.877\n",
      "[0080000/0100000] loss 66.758\n",
      "[0090000/0100000] loss 65.692\n",
      "[0100000/0100000] loss 65.575\n",
      "train loss: 52.259708404541016\n",
      "test loss: 48.880592346191406\n"
     ]
    },
    {
     "data": {
      "image/png": "[encoded data removed]",
      "text/plain": [
       "<Figure size 432x288 with 1 Axes>"
      ]
     },
     "metadata": {},
     "output_type": "display_data"
    },
    {
     "name": "stdout",
     "output_type": "stream",
     "text": [
      "CPU times: user 22.9 s, sys: 160 ms, total: 23.1 s\n",
      "Wall time: 23.1 s\n"
     ]
    }
   ],
   "source": [
    "%%time \n",
    "\n",
    "params = dict(method = 'gradient', learning_rate=1e-6, verbose=10000, max_iter = 100000, lambda_l1=10)\n",
    "model_gradl1 = fit_eval_model(params, X_train, X_test, y_train, y_test)"
   ]
  },
  {
   "cell_type": "markdown",
   "metadata": {},
   "source": [
    "## Gradient with standardization "
   ]
  },
  {
   "cell_type": "code",
   "execution_count": 17,
   "metadata": {},
   "outputs": [],
   "source": [
    "def standardize(mu, std, X):\n",
    "    X -= mu.unsqueeze(0).expand(X.size())\n",
    "    X /= std.unsqueeze(0).expand(X.size())\n",
    "    return X\n"
   ]
  },
  {
   "cell_type": "code",
   "execution_count": 18,
   "metadata": {},
   "outputs": [
    {
     "data": {
      "text/plain": [
       "tensor([3.6091e+00, 1.1569e+01, 1.0985e+01, 7.1782e-02, 5.5648e-01, 6.3159e+00,\n",
       "        6.8556e+01, 3.8082e+00, 9.3564e+00, 4.0403e+02, 1.8318e+01, 3.5628e+02,\n",
       "        1.2457e+01], device='cuda:0')"
      ]
     },
     "execution_count": 18,
     "metadata": {},
     "output_type": "execute_result"
    }
   ],
   "source": [
    "mu, std = X_train.mean(0), X_train.std(0)\n",
    "mu"
   ]
  },
  {
   "cell_type": "code",
   "execution_count": 19,
   "metadata": {},
   "outputs": [],
   "source": [
    "X_train_std = standardize(mu, std, X_train)\n",
    "X_test_std = standardize(mu, std, X_test)"
   ]
  },
  {
   "cell_type": "code",
   "execution_count": 20,
   "metadata": {},
   "outputs": [
    {
     "name": "stdout",
     "output_type": "stream",
     "text": [
      "[0000001/0001000] loss 686.310\n",
      "[0000100/0001000] loss 441.729\n",
      "[0000200/0001000] loss 300.241\n",
      "[0000300/0001000] loss 208.316\n",
      "[0000400/0001000] loss 147.292\n",
      "[0000500/0001000] loss 106.581\n",
      "[0000600/0001000] loss 79.349\n",
      "[0000700/0001000] loss 61.093\n",
      "[0000800/0001000] loss 48.825\n",
      "[0000900/0001000] loss 40.561\n",
      "[0001000/0001000] loss 34.977\n",
      "train loss: 34.9316291809082\n",
      "test loss: 38.32062911987305\n"
     ]
    },
    {
     "data": {
      "image/png": "[encoded data removed]",
      "text/plain": [
       "<Figure size 432x288 with 1 Axes>"
      ]
     },
     "metadata": {},
     "output_type": "display_data"
    },
    {
     "name": "stdout",
     "output_type": "stream",
     "text": [
      "CPU times: user 382 ms, sys: 16.1 ms, total: 399 ms\n",
      "Wall time: 396 ms\n"
     ]
    }
   ],
   "source": [
    "%%time \n",
    "\n",
    "params = dict(method = 'gradient', learning_rate=1e-3, verbose=100, max_iter = 1000)\n",
    "model_std = fit_eval_model(params, \n",
    "                            X_train_std, X_test_std, y_train, y_test)"
   ]
  },
  {
   "cell_type": "markdown",
   "metadata": {},
   "source": [
    "## Gradient with MinMax "
   ]
  },
  {
   "cell_type": "code",
   "execution_count": 21,
   "metadata": {},
   "outputs": [],
   "source": [
    "def minmax(min_x, max_x, X):\n",
    "    X -= min_x.unsqueeze(0).expand(X.size())\n",
    "    X /= (max_x - min_x).unsqueeze(0).expand(X.size())\n",
    "    return X"
   ]
  },
  {
   "cell_type": "code",
   "execution_count": 22,
   "metadata": {},
   "outputs": [
    {
     "data": {
      "text/plain": [
       "tensor([-0.4056, -0.4997, -1.4859, -0.2777, -1.4569, -3.4574, -2.3453, -1.2568,\n",
       "        -0.9728, -1.3061, -2.5658, -3.8874, -1.5087], device='cuda:0')"
      ]
     },
     "execution_count": 22,
     "metadata": {},
     "output_type": "execute_result"
    }
   ],
   "source": [
    "min_x, max_x = X_train.min(0).values, X_train.max(0).values\n",
    "min_x"
   ]
  },
  {
   "cell_type": "code",
   "execution_count": 23,
   "metadata": {},
   "outputs": [],
   "source": [
    "X_train_norm = minmax(min_x, max_x, X_train)\n",
    "X_test_norm = minmax(min_x, max_x, X_test)"
   ]
  },
  {
   "cell_type": "code",
   "execution_count": 24,
   "metadata": {},
   "outputs": [
    {
     "name": "stdout",
     "output_type": "stream",
     "text": [
      "[0000001/0001000] loss 639.456\n",
      "[0000100/0001000] loss 235.295\n",
      "[0000200/0001000] loss 136.111\n",
      "[0000300/0001000] loss 108.372\n",
      "[0000400/0001000] loss 97.425\n",
      "[0000500/0001000] loss 90.832\n",
      "[0000600/0001000] loss 85.711\n",
      "[0000700/0001000] loss 81.348\n",
      "[0000800/0001000] loss 77.527\n",
      "[0000900/0001000] loss 74.152\n",
      "[0001000/0001000] loss 71.160\n",
      "train loss: 71.13180541992188\n",
      "test loss: 64.03260803222656\n"
     ]
    },
    {
     "data": {
      "image/png": "[encoded data removed]",
      "text/plain": [
       "<Figure size 432x288 with 1 Axes>"
      ]
     },
     "metadata": {},
     "output_type": "display_data"
    },
    {
     "name": "stdout",
     "output_type": "stream",
     "text": [
      "CPU times: user 359 ms, sys: 7.99 ms, total: 367 ms\n",
      "Wall time: 366 ms\n"
     ]
    }
   ],
   "source": [
    "%%time \n",
    "\n",
    "params = dict(method = 'gradient', learning_rate=1e-3, verbose=100, max_iter = 1000)\n",
    "model_norm = fit_eval_model(params, \n",
    "                            X_train_norm, X_test_norm, y_train, y_test)"
   ]
  }
 ],
 "metadata": {
  "kernelspec": {
   "display_name": "Python [conda env:ml_ukma]",
   "language": "python",
   "name": "conda-env-ml_ukma-py"
  },
  "language_info": {
   "codemirror_mode": {
    "name": "ipython",
    "version": 3
   },
   "file_extension": ".py",
   "mimetype": "text/x-python",
   "name": "python",
   "nbconvert_exporter": "python",
   "pygments_lexer": "ipython3",
   "version": "3.7.4"
  }
 },
 "nbformat": 4,
 "nbformat_minor": 4
}
